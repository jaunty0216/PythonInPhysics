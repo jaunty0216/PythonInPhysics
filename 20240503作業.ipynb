{
 "cells": [
  {
   "cell_type": "code",
   "execution_count": 1,
   "id": "1bee3cad-8d5c-4085-a90b-733048aa73a4",
   "metadata": {},
   "outputs": [],
   "source": [
    "import numpy as np"
   ]
  },
  {
   "cell_type": "code",
   "execution_count": 7,
   "id": "ae33e99a-8dc8-4be7-b701-6f6617c090be",
   "metadata": {},
   "outputs": [
    {
     "name": "stdout",
     "output_type": "stream",
     "text": [
      "[[1. 2. 3. 4.]\n",
      " [2. 1. 2. 3.]\n",
      " [3. 2. 1. 2.]\n",
      " [4. 3. 2. 1.]] The Matrix\n",
      "-19.999999999999996 The DET[M]\n",
      "[[-4.0000000e-01  5.0000000e-01  0.0000000e+00  1.0000000e-01]\n",
      " [ 5.0000000e-01 -1.0000000e+00  5.0000000e-01  0.0000000e+00]\n",
      " [ 0.0000000e+00  5.0000000e-01 -1.0000000e+00  5.0000000e-01]\n",
      " [ 1.0000000e-01 -6.9388939e-18  5.0000000e-01 -4.0000000e-01]] The inverse[M]\n"
     ]
    }
   ],
   "source": [
    "M = np.array([[1.,2.,3.,4.],[2.,1.,2.,3.],[3.,2.,1.,2.],[4.,3.,2.,1.]])\n",
    "print(M,\"The Matrix\")\n",
    "TheDetermine = np.linalg.det(M)\n",
    "TheInverse = np.linalg.inv(M)\n",
    "print(TheDetermine,\"The DET[M]\")\n",
    "print(TheReverse,\"The inverse[M]\")"
   ]
  },
  {
   "cell_type": "code",
   "execution_count": 10,
   "id": "2394ae91-32a9-4932-8877-4f24da60c887",
   "metadata": {},
   "outputs": [
    {
     "name": "stdout",
     "output_type": "stream",
     "text": [
      "[[2 1 0 3]\n",
      " [1 2 1 0]\n",
      " [0 1 2 1]\n",
      " [3 0 1 2]] The Matrix\n",
      "EigResult(eigenvalues=array([-1.41421356,  5.41421356,  1.41421356,  2.58578644]), eigenvectors=array([[-0.65328148,  0.65328148,  0.27059805,  0.27059805],\n",
      "       [ 0.27059805,  0.27059805,  0.65328148, -0.65328148],\n",
      "       [-0.27059805,  0.27059805, -0.65328148, -0.65328148],\n",
      "       [ 0.65328148,  0.65328148, -0.27059805,  0.27059805]]))\n"
     ]
    }
   ],
   "source": [
    "N = np.array([[2,1,0,3],[1,2,1,0],[0,1,2,1],[3,0,1,2]])\n",
    "print(N,\"The Matrix\")\n",
    "n = np.linalg.eig(N)\n",
    "print(n)"
   ]
  },
  {
   "cell_type": "code",
   "execution_count": 22,
   "id": "1d8ca013-a5c1-40a1-a75e-3785ba7f06be",
   "metadata": {},
   "outputs": [
    {
     "name": "stdout",
     "output_type": "stream",
     "text": [
      "[[-0.0625    ]\n",
      " [ 0.18181818]\n",
      " [ 0.26704545]\n",
      " [ 0.68181818]]\n",
      "The results are respectively correspond to x,y,z and w.\n"
     ]
    }
   ],
   "source": [
    "first = np.array([[5,2,1,1],[2,5,2,1],[1,2,5,2],[2,1,2,5]])\n",
    "second = np.array([[1],[2],[3],[4]])\n",
    "print(np.linalg.solve(first,second))\n",
    "print(\"The results are respectively correspond to x,y,z and w.\")"
   ]
  },
  {
   "cell_type": "code",
   "execution_count": 14,
   "id": "63f46863-2950-49c9-a88b-b1d0d51a5ef1",
   "metadata": {},
   "outputs": [
    {
     "name": "stdout",
     "output_type": "stream",
     "text": [
      "[ 1.2232207+1.70974018j  1.2232207-1.70974018j -1.       +0.j\n",
      "  0.2767793+0.38686453j  0.2767793-0.38686453j] The roots.\n",
      "[ 0.97224725+1.29504247j  0.97224725-1.29504247j -0.59909753+0.j\n",
      "  0.25460303+0.j        ] The extremas(don't consider the complex numbers.)\n",
      "[ 0.72031999+0.85312056j  0.72031999-0.85312056j -0.24063999+0.j        ]\n",
      "[-38.38943541-7.11585041j -38.38943541+7.11585041j\n",
      " -17.69832001+0.j           9.35719084+0.j        ] The second derivatives at critical points(don't consider the complex numbers.)\n",
      "因為是五次多項式，所以整個函數的極大值或極小值不存在。\n",
      "所以只有局部極大值或極小值。\n",
      "由系統執行出來的值可以判斷出：\n",
      "Local maximum located at x = -0.59909753\n",
      "Local minimum located at x = 0.25460303\n"
     ]
    }
   ],
   "source": [
    "f = np.poly1d([1,-2,3,3,-2,1])\n",
    "print(f.roots,'The roots.')\n",
    "df = f.deriv()\n",
    "print(df.roots,\"The extremas(don't consider the complex numbers.)\")\n",
    "ddf = df.deriv()\n",
    "print(ddf.roots)\n",
    "print(ddf(df.roots),\"The second derivatives at critical points(don't consider the complex numbers.)\")\n",
    "print(\"因為是五次多項式，所以整個函數的極大值或極小值不存在。\")\n",
    "print(\"所以只有局部極大值或極小值。\")\n",
    "print(\"由系統執行出來的值可以判斷出：\")\n",
    "print(\"Local maximum located at x = -0.59909753\")\n",
    "print(\"Local minimum located at x = 0.25460303\")"
   ]
  },
  {
   "cell_type": "code",
   "execution_count": null,
   "id": "ba20324d-0fac-4fd2-a8aa-5c7bb5fa1b3b",
   "metadata": {},
   "outputs": [],
   "source": []
  }
 ],
 "metadata": {
  "kernelspec": {
   "display_name": "Python 3 (ipykernel)",
   "language": "python",
   "name": "python3"
  },
  "language_info": {
   "codemirror_mode": {
    "name": "ipython",
    "version": 3
   },
   "file_extension": ".py",
   "mimetype": "text/x-python",
   "name": "python",
   "nbconvert_exporter": "python",
   "pygments_lexer": "ipython3",
   "version": "3.11.7"
  }
 },
 "nbformat": 4,
 "nbformat_minor": 5
}
