{
 "cells": [
  {
   "cell_type": "code",
   "execution_count": 4,
   "id": "95364446-2568-45aa-9d8c-640b61d742eb",
   "metadata": {},
   "outputs": [],
   "source": [
    "import numpy as np"
   ]
  },
  {
   "cell_type": "code",
   "execution_count": 2,
   "id": "8f6311af-72bc-4084-bf38-fee8e778d56c",
   "metadata": {},
   "outputs": [
    {
     "name": "stdout",
     "output_type": "stream",
     "text": [
      "2\n",
      "(3, 2)\n",
      "3\n"
     ]
    }
   ],
   "source": [
    "testing = np.array([[1,2],[5,4],[88,47]])#定義一個陣列\n",
    "print(testing.ndim)#告訴我是幾維\n",
    "print(testing.shape)#告訴我是M*N的陣列\n",
    "print(len(testing))#告訴我M(第一維)\n",
    "#第一重點"
   ]
  },
  {
   "cell_type": "code",
   "execution_count": 77,
   "id": "7acbb60d-e37f-403c-9b46-5c0e9494f88a",
   "metadata": {
    "scrolled": true
   },
   "outputs": [
    {
     "name": "stdout",
     "output_type": "stream",
     "text": [
      "[0 1 2 3 4]\n",
      "[ 4  7 10 13]\n",
      "The data type of arange is:  <class 'numpy.ndarray'>\n"
     ]
    }
   ],
   "source": [
    "b = np.arange(5)#arange是一種屬於numpy的命令，範圍是0~n-1，資料型態是numpy.ndarray\n",
    "bb = np.arange(4,14,3)#(起始值,終點值(減1才是最後一個理論上會出現的值),公差)\n",
    "print(b)\n",
    "print(bb)\n",
    "print('The data type of arange is: ',type(b))\n",
    "#可以用type(你要確認的資料)來檢查是甚麼類型\n",
    "#第二重點"
   ]
  },
  {
   "cell_type": "code",
   "execution_count": 4,
   "id": "429b4083-8106-4dcf-bf20-7633532211ec",
   "metadata": {},
   "outputs": [
    {
     "name": "stdout",
     "output_type": "stream",
     "text": [
      "[0.   0.25 0.5  0.75 1.  ]  拆成五份，有包含終點\n",
      "[0.  0.2 0.4 0.6 0.8]  拆成五份，沒有包含終點\n"
     ]
    }
   ],
   "source": [
    "c = np.linspace(0,1,5)#(起始,終點，拆成幾分(預設包含終點,可以改成不包含，見下面))\n",
    "cc = np.linspace(0,1,5,endpoint=False)\n",
    "print(c,\" 拆成五份，有包含終點\")\n",
    "print(cc,\" 拆成五份，沒有包含終點\")"
   ]
  },
  {
   "cell_type": "code",
   "execution_count": 5,
   "id": "7da43734-56ee-4c36-9ff8-f528ce89f3c6",
   "metadata": {},
   "outputs": [
    {
     "name": "stdout",
     "output_type": "stream",
     "text": [
      "[[[1. 1.]\n",
      "  [1. 1.]\n",
      "  [1. 1.]]\n",
      "\n",
      " [[1. 1.]\n",
      "  [1. 1.]\n",
      "  [1. 1.]]\n",
      "\n",
      " [[1. 1.]\n",
      "  [1. 1.]\n",
      "  [1. 1.]]\n",
      "\n",
      " [[1. 1.]\n",
      "  [1. 1.]\n",
      "  [1. 1.]]]\n",
      "[[0. 0. 0. 0. 0.]\n",
      " [0. 0. 0. 0. 0.]\n",
      " [0. 0. 0. 0. 0.]\n",
      " [0. 0. 0. 0. 0.]\n",
      " [0. 0. 0. 0. 0.]]\n"
     ]
    }
   ],
   "source": [
    "d = np.ones((4,3,2))#建議用兩個括號連接起來，因為只有一個數字一個或兩個括號都可以，但兩個數字以上就一定要兩個括號了。\n",
    "#順序 = (高,列,行)\n",
    "#生成全部1或0的陣列\n",
    "print(d)\n",
    "dd = np.zeros((5,5))\n",
    "print(dd)"
   ]
  },
  {
   "cell_type": "code",
   "execution_count": 6,
   "id": "8024525a-6d2a-40b7-a613-fb5133d7d763",
   "metadata": {},
   "outputs": [
    {
     "name": "stdout",
     "output_type": "stream",
     "text": [
      "[[1. 0. 0. 0. 0. 0. 0.]\n",
      " [0. 1. 0. 0. 0. 0. 0.]\n",
      " [0. 0. 1. 0. 0. 0. 0.]\n",
      " [0. 0. 0. 1. 0. 0. 0.]\n",
      " [0. 0. 0. 0. 1. 0. 0.]\n",
      " [0. 0. 0. 0. 0. 1. 0.]\n",
      " [0. 0. 0. 0. 0. 0. 1.]]\n",
      "[[12  0  0  0]\n",
      " [ 0  2  0  0]\n",
      " [ 0  0  3  0]\n",
      " [ 0  0  0  4]]\n"
     ]
    }
   ],
   "source": [
    "e = np.eye(7)#單位矩陣but N*N\n",
    "print(e)\n",
    "ee = np.diag([12,2,3,4])#diag = diagonal matrix = 對角矩陣，相當於有些位置不一定是1的單位矩陣。\n",
    "#其實diag()裡面要放一個矩陣，所以裡面也可以放 np.array([n,n,...])\n",
    "print(ee)"
   ]
  },
  {
   "cell_type": "code",
   "execution_count": 29,
   "id": "75b7126f-7707-4cb6-95de-7c1d6a5ab046",
   "metadata": {},
   "outputs": [
    {
     "name": "stdout",
     "output_type": "stream",
     "text": [
      "[0.54573365 0.42171837 0.87310659 0.24983121 0.77988423 0.6908006 ]\n",
      "[-0.26101153  0.25532552  0.83100904 -0.0481497  -0.09864005 -0.53445008]\n"
     ]
    }
   ],
   "source": [
    "f = np.random.rand(6)#均勻分布，範圍[0,1]，一般用到的\"隨機\"是這個\n",
    "ff = np.random.randn(6)#常態分佈，變異數為1，可正可負，the 'n' at fifth place means \"normal\".，通常用在類神經網路的研究上，較不常用(相對於我)\n",
    "print(f)\n",
    "print(ff)"
   ]
  },
  {
   "cell_type": "code",
   "execution_count": 34,
   "id": "92a6c938-5e29-4a62-a7f6-c43edf2981ff",
   "metadata": {},
   "outputs": [
    {
     "name": "stdout",
     "output_type": "stream",
     "text": [
      "int32\n",
      "int32\n",
      "float64\n",
      "float64\n",
      "complex128\n",
      "<U4\n",
      "bool\n",
      "<class 'numpy.ndarray'>\n",
      "<class 'numpy.ndarray'>\n",
      "<class 'numpy.ndarray'>\n",
      "<class 'numpy.ndarray'>\n"
     ]
    }
   ],
   "source": [
    "g = np.array([1,2,4])\n",
    "gg = np.array([[1,2],[3,4]])\n",
    "ggg = np.array([1.1,2.2])\n",
    "gggg = np.array([1,2,3],dtype = float)#第二個參數可以強制改變內部元素資料類型\n",
    "g1 = np.array([1+4j,2+6j])\n",
    "gtext = np.array(['hi','okkk'])\n",
    "gbool = np.array([True,False,False,True,True])\n",
    "print(g.dtype)\n",
    "print(gg.dtype)\n",
    "print(ggg.dtype)\n",
    "print(gggg.dtype)\n",
    "print(g1.dtype)\n",
    "print(gtext.dtype)#會輸出字元數最多的元素的字元數\n",
    "print(gbool.dtype)\n",
    "#重點：檢測用.dtype\n",
    "print(type(g))\n",
    "print(type(gg))\n",
    "print(type(ggg))\n",
    "print(type(gggg))\n",
    "#結論：用.dtype，檢查的是內部元素的資料類型；用type()，檢查的是整個的資料類型"
   ]
  },
  {
   "cell_type": "code",
   "execution_count": 79,
   "id": "ef8d36aa-fc6a-4bb4-a084-7e56a8e9c5e2",
   "metadata": {},
   "outputs": [
    {
     "name": "stdout",
     "output_type": "stream",
     "text": [
      "[ 0  1  2  3  4 37 37 37 37 37]\n",
      "14\n",
      "[ 0  1  2  3  4  5  6  7  8  9 10 11 12 13]\n",
      "[ 0  3  6  9 12]\n",
      "[14 11  8  5  2]\n"
     ]
    }
   ],
   "source": [
    "h = np.arange(10)\n",
    "h[5:] = 37#把序號5以後的元素改為37\n",
    "print(h)\n",
    "hh = np.arange(15)\n",
    "print(hh[-1])#列出最後一項\n",
    "print(hh[:-1])#列出最後一項之前的元素\n",
    "print(hh[::3])#從第一個元素開始列出(首項是0)，後面的數字(3)是公差，等差數列出現的數字就是列出的內容的index值。\n",
    "print(hh[::-3])#同上，不過從最後一個開始\n",
    "#簡單來說\"-\"代表的概念是\"方向\""
   ]
  },
  {
   "cell_type": "code",
   "execution_count": 98,
   "id": "678fc150-3054-40dc-8b6d-e42f71ad0a67",
   "metadata": {},
   "outputs": [
    {
     "name": "stdout",
     "output_type": "stream",
     "text": [
      "[0 1 2 3 4 5 6] 這是一般的數列\n",
      "[[0]\n",
      " [1]\n",
      " [2]\n",
      " [3]\n",
      " [4]\n",
      " [5]\n",
      " [6]] 使其垂直\n",
      "[[0 1 2 3 4 5 6]] 使其躺平\n",
      "這是講義上的：\n",
      "[[ 0  1  2  3  4  5  6]\n",
      " [10 11 12 13 14 15 16]\n",
      " [20 21 22 23 24 25 26]\n",
      " [30 31 32 33 34 35 36]\n",
      " [40 41 42 43 44 45 46]\n",
      " [50 51 52 53 54 55 56]] 也只能垂直了\n"
     ]
    }
   ],
   "source": [
    "i = np.arange(7)\n",
    "print(i,'這是一般的數列')\n",
    "\n",
    "vertical = i[:,np.newaxis]#使其垂直\n",
    "horizon = i[np.newaxis,:]#使其躺平\n",
    "#詭異的背法，看第一個參數，冒號是垂直的，\"np.newaxis\"是橫的\n",
    "print(vertical,'使其垂直')\n",
    "print(horizon,'使其躺平')\n",
    "\n",
    "#可以參考：https://stackoverflow.com/questions/29241056/how-do-i-use-np-newaxis\n",
    "print(\"這是講義上的：\")\n",
    "ii = i+np.arange(0,51,10)[:,np.newaxis]\n",
    "print(ii,'也只能垂直了')"
   ]
  },
  {
   "cell_type": "code",
   "execution_count": 14,
   "id": "a7571018-0d20-43f4-b83c-763e16dd8731",
   "metadata": {},
   "outputs": [
    {
     "name": "stdout",
     "output_type": "stream",
     "text": [
      "[1 2 3 4 5]\n",
      "[ 2  4  6  8 10]\n",
      "[[1. 1. 1. 1.]\n",
      " [1. 1. 1. 1.]\n",
      " [1. 1. 1. 1.]\n",
      " [1. 1. 1. 1.]]\n",
      "[[8. 8. 8. 8.]\n",
      " [8. 8. 8. 8.]\n",
      " [8. 8. 8. 8.]\n",
      " [8. 8. 8. 8.]]\n",
      "[20 30 12]\n",
      "[0 1 2 3 4]\n",
      "[12 16 20 24 28]\n"
     ]
    }
   ],
   "source": [
    "#和內部元素的互動\n",
    "a = np.array([1,2,3,4,5])\n",
    "print(a)\n",
    "print(2*a)#內部元素乘以2\n",
    "b = np.ones((4,4))\n",
    "print(b)\n",
    "print(b+7)#內部元素加7\n",
    "aa = np.array([4,5,6])\n",
    "bb = np.array([5,6,2])\n",
    "print(aa*bb)#乘法必須要是同樣size的\n",
    "j = np.arange(5)\n",
    "print(j)\n",
    "print(4*(j+3))"
   ]
  },
  {
   "cell_type": "code",
   "execution_count": 25,
   "id": "f6b78b4c-da64-434a-98e4-89776be1afe0",
   "metadata": {},
   "outputs": [
    {
     "name": "stdout",
     "output_type": "stream",
     "text": [
      "[[1 2]\n",
      " [3 4]]\n",
      "[[3 6]\n",
      " [1 7]]\n",
      "[[ 3 12]\n",
      " [ 3 28]]\n",
      "[[ 5 20]\n",
      " [13 46]]\n",
      "[[False False]\n",
      " [False False]]\n",
      "[[False False]\n",
      " [ True False]]\n"
     ]
    }
   ],
   "source": [
    "#矩陣乘法\n",
    "c = np.array([[1,2],[3,4]])\n",
    "d = np.array([[3,6],[1,7]])\n",
    "print(c)\n",
    "print(d)\n",
    "print(c*d)#元素相乘，注意size要都一樣才行\n",
    "print(c.dot(d))#使用dot才是真正的矩陣相乘\n",
    "print(c == d)\n",
    "print(c >= d)#邏輯運算，依然注意size"
   ]
  },
  {
   "cell_type": "code",
   "execution_count": 59,
   "id": "48083da3-170c-4950-bbae-f4b82fef2e88",
   "metadata": {},
   "outputs": [
    {
     "name": "stdout",
     "output_type": "stream",
     "text": [
      "[ True  True False False  True False  True]\n",
      "[ True  True  True False  True  True  True]\n",
      "[False False False False  True False  True]\n",
      "[ 0.          0.99999968  0.00159265 -0.99999715 -0.0031853 ]\n",
      "[ 1.00000000e+00  7.96326711e-04 -9.99998732e-01 -2.38897811e-03\n",
      "  9.99994927e-01]\n"
     ]
    }
   ],
   "source": [
    "#邏輯運算\n",
    "a = np.array([1,1,0,0,1,0,1],dtype=bool)#0為False,其餘為1，讓我不用一直輸入True或False。\n",
    "b = np.array([0,0,1,0,1,1,1],dtype=bool)\n",
    "print(a)\n",
    "print(np.logical_or(a,b))#or邏輯運算\n",
    "print(np.logical_and(a,b))#and邏輯運算\n",
    "e = np.arange(5)/2* 3.14\n",
    "print(np.sin(e))#直接把一個範圍的元素當作x並帶入sin(x)裡面計算\n",
    "print(np.cos(e))"
   ]
  },
  {
   "cell_type": "code",
   "execution_count": 68,
   "id": "e144ed43-ae97-4bca-b85d-01988db6864f",
   "metadata": {},
   "outputs": [
    {
     "name": "stdout",
     "output_type": "stream",
     "text": [
      "array和arange不能相加\n"
     ]
    }
   ],
   "source": [
    "try:\n",
    "    a = np.arange([7])\n",
    "    print(a + np.array([1,2]))#array和arange不能相加\n",
    "except:\n",
    "    print(\"array和arange不能相加\")"
   ]
  },
  {
   "cell_type": "code",
   "execution_count": 81,
   "id": "7b379b98-9a39-479c-be74-044a8d0e4f0c",
   "metadata": {},
   "outputs": [
    {
     "name": "stdout",
     "output_type": "stream",
     "text": [
      "[[1. 1. 1.]\n",
      " [0. 1. 1.]\n",
      " [0. 0. 1.]]\n",
      "[[1. 0. 0.]\n",
      " [1. 1. 0.]\n",
      " [1. 1. 1.]]\n"
     ]
    }
   ],
   "source": [
    "#我先定義左上到右下的線是t\n",
    "a = np.triu(np.ones((3,3)),0)#數組的上三角形，第二個參數的意思是t往上空幾行開始輸出，0就是從t開始輸出\n",
    "print(a)\n",
    "print(a.T)#沿著t做鏡射對換"
   ]
  },
  {
   "cell_type": "code",
   "execution_count": 92,
   "id": "7e4c5cd8-97b1-4cd3-ba51-8c7b6326d407",
   "metadata": {},
   "outputs": [
    {
     "name": "stdout",
     "output_type": "stream",
     "text": [
      "24\n",
      "24\n",
      "[[4 5]\n",
      " [6 2]]\n",
      "[10  7]\n",
      "[9 8]\n"
     ]
    }
   ],
   "source": [
    "r = np.array([2,5,8,9])\n",
    "print(np.sum(r))#使用np功能，引入甚麼參數\n",
    "print(r.sum())#甚麼物件.做甚麼功能\n",
    "#上面兩個sum意思一樣\n",
    "x = np.array([[4,5],[6,2]])\n",
    "print(x)\n",
    "print(x.sum(axis = 0))#相加的元素在同一行(column)\n",
    "print(x.sum(axis = 1))#相加的元素在同一列(row)\n",
    "#都是先從計算列開始的(上到下)，再從行開始算(左到右)\n",
    "#對python來說，axis0對應到的是由上到下，axis1對應的則是由左到右"
   ]
  },
  {
   "cell_type": "code",
   "execution_count": 122,
   "id": "c863269c-0009-4f3a-9c4f-bf95e28c3179",
   "metadata": {},
   "outputs": [
    {
     "name": "stdout",
     "output_type": "stream",
     "text": [
      "2\n",
      "9\n",
      "0\n",
      "2\n",
      "False\n",
      "True\n"
     ]
    }
   ],
   "source": [
    "y = np.array([2,7,9])\n",
    "print(y.min())\n",
    "print(y.max())\n",
    "print(y.argmin())#找index的最小值，看到arg開頭就想到它和index有關\n",
    "print(y.argmax())#找index的最大值\n",
    "\n",
    "print(np.all([False,False,True,True,True,False]))#只要有看到一個False就整個都會輸出為False\n",
    "print(np.any([False,False,True,True,True,False]))#只要有看到一個True就整個會輸出為True"
   ]
  },
  {
   "cell_type": "code",
   "execution_count": 165,
   "id": "8ca6b774-2af8-431d-9334-ec847b0e1bf0",
   "metadata": {},
   "outputs": [
    {
     "name": "stdout",
     "output_type": "stream",
     "text": [
      "[[1 7 3]\n",
      " [7 9 6]]\n",
      "3.0\n",
      "3.0\n",
      "[3. 7.]\n",
      "1.4142135623730951\n"
     ]
    }
   ],
   "source": [
    "t = np.array([1,2,4,3,5])\n",
    "u = np.array([[1,7,3],[7,9,6]])\n",
    "print(u)\n",
    "print(t.mean())#取平均值\n",
    "print(np.median(t))#找中間值\n",
    "print(np.median(u,axis=1))\n",
    "print(t.std())#找標準差(sigma)"
   ]
  },
  {
   "cell_type": "code",
   "execution_count": 166,
   "id": "872e5209-25a7-4ec8-80d6-5d7e19d1785f",
   "metadata": {},
   "outputs": [
    {
     "data": {
      "text/plain": [
       "array([1, 2, 3, 4, 5, 6])"
      ]
     },
     "execution_count": 166,
     "metadata": {},
     "output_type": "execute_result"
    }
   ],
   "source": [
    "b = np.array([[1, 2, 3], [4, 5, 6]])\n",
    "b.ravel()#拆解"
   ]
  },
  {
   "cell_type": "code",
   "execution_count": 176,
   "id": "403d4fec-e7f7-4f17-bf27-b49546299367",
   "metadata": {},
   "outputs": [
    {
     "name": "stdout",
     "output_type": "stream",
     "text": [
      "[[4 3 5]\n",
      " [1 7 6]]\n",
      "[[1 3 5]\n",
      " [4 7 6]]\n",
      "[[3 4 5]\n",
      " [1 6 7]]\n"
     ]
    }
   ],
   "source": [
    "#np排序工具\n",
    "a = np.array([[4, 3, 5], [1, 7, 6]])\n",
    "b = np.sort(a, axis=0)\n",
    "c = np.sort(a, axis=1)\n",
    "print(a)\n",
    "print(b)\n",
    "print(c)"
   ]
  },
  {
   "cell_type": "code",
   "execution_count": 191,
   "id": "8db6df7c-3492-44fd-8663-5fcd4e3f07c5",
   "metadata": {},
   "outputs": [
    {
     "name": "stdout",
     "output_type": "stream",
     "text": [
      "[[1. 2.]\n",
      " [3. 4.]] the array\n",
      "[[-2.   1. ]\n",
      " [ 1.5 -0.5]] the array's inverse version\n",
      "5.0 從最左上角累加到最右下角的值\n",
      "-2.0000000000000004 the determine of the array\n",
      "[[-3.]\n",
      " [ 4.]] 找出a乘以甚麼會是y\n"
     ]
    }
   ],
   "source": [
    "a = np.array([[1.0, 2.0], [3.0, 4.0]])\n",
    "b = np.linalg.inv(a)#inverse反矩陣\n",
    "c = np.trace(a) # trace\n",
    "d = np.linalg.det(a)#determine行列式值\n",
    "#linalg意思應該是linear algebra\n",
    "y = np.array([[5.], [7.]])\n",
    "e = np.linalg.solve(a, y)#找出a乘以甚麼會是y\n",
    "\n",
    "print(a,\"the array\")\n",
    "print(b,\"the array's inverse version\")\n",
    "print(c,\"從最左上角累加到最右下角的值\")\n",
    "print(d,\"the determine of the array\")\n",
    "print(e,\"找出a乘以甚麼會是y\")"
   ]
  },
  {
   "cell_type": "code",
   "execution_count": 197,
   "id": "136f8ff1-7236-4f1e-a69e-cc11c02b4193",
   "metadata": {},
   "outputs": [
    {
     "name": "stdout",
     "output_type": "stream",
     "text": [
      "[ 3. -1.]\n",
      "[[ 0.70710678 -0.70710678]\n",
      " [ 0.70710678  0.70710678]]\n",
      "[[-1.00000000e+00  6.66133815e-16]\n",
      " [ 6.66133815e-16  3.00000000e+00]]\n"
     ]
    }
   ],
   "source": [
    "M = np.array([[1.0, 2.0], [2.0, 1.0]])\n",
    "eig_val,Mat_S=np.linalg.eig(M)\n",
    "print(eig_val)\n",
    "print(Mat_S)\n",
    "print(Mat_S.dot(M).dot(np.linalg.inv(Mat_S)))\n",
    "\n",
    "#線性代數內容，過，看看下面的範例就好"
   ]
  },
  {
   "cell_type": "code",
   "execution_count": 198,
   "id": "0e68bf76-04aa-48eb-bb15-c1455c53c95b",
   "metadata": {},
   "outputs": [
    {
     "name": "stdout",
     "output_type": "stream",
     "text": [
      "[[1 2]\n",
      " [3 4]]\n",
      "EigResult(eigenvalues=array([-0.37228132,  5.37228132]), eigenvectors=array([[-0.82456484, -0.41597356],\n",
      "       [ 0.56576746, -0.90937671]]))\n"
     ]
    }
   ],
   "source": [
    "a = np.array([[1, 2], [3, 4]])\n",
    "b = np.linalg.eig(a)#找特徵向量\n",
    "print(a)\n",
    "print(b)"
   ]
  },
  {
   "cell_type": "code",
   "execution_count": 8,
   "id": "22cb642c-c666-4272-98e7-aa4bf0da4c1e",
   "metadata": {},
   "outputs": [
    {
     "name": "stdout",
     "output_type": "stream",
     "text": [
      "0\n",
      "[0. 0. 0.]\n",
      "3\n",
      "   3\n",
      "3 x\n",
      "   2\n",
      "9 x\n"
     ]
    }
   ],
   "source": [
    "p = np.poly1d([3,0,0,0])#相當於3x^3\n",
    "print(p(0))#x帶0\n",
    "print(p.roots)#求根\n",
    "print(p.order)#告訴我這是幾次多項式\n",
    "print(p)#列出原本的多項式\n",
    "print(p.deriv())#多項式的微分"
   ]
  },
  {
   "cell_type": "code",
   "execution_count": 205,
   "id": "75eb82fe-a900-4169-b2cf-21963c2089d1",
   "metadata": {},
   "outputs": [],
   "source": [
    "#numpy筆記到上面結束"
   ]
  }
 ],
 "metadata": {
  "kernelspec": {
   "display_name": "Python 3 (ipykernel)",
   "language": "python",
   "name": "python3"
  },
  "language_info": {
   "codemirror_mode": {
    "name": "ipython",
    "version": 3
   },
   "file_extension": ".py",
   "mimetype": "text/x-python",
   "name": "python",
   "nbconvert_exporter": "python",
   "pygments_lexer": "ipython3",
   "version": "3.11.7"
  }
 },
 "nbformat": 4,
 "nbformat_minor": 5
}
